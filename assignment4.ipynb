{
 "cells": [
  {
   "cell_type": "code",
   "execution_count": 8,
   "metadata": {},
   "outputs": [
    {
     "name": "stdout",
     "output_type": "stream",
     "text": [
      "Number of islands is :\n",
      "5\n"
     ]
    }
   ],
   "source": [
    "class Tile:\n",
    " \n",
    "    def __init__(self, row, col, g):\n",
    "        self.ROW = row\n",
    "        self.COL = col\n",
    "        self.graph = g\n",
    " \n",
    "    def isSafe(self, i, j, visited):\n",
    "        return (i >= 0 and i < self.ROW and\n",
    "                j >= 0 and j < self.COL and\n",
    "                not visited[i][j] and self.graph[i][j])\n",
    "             \n",
    "    def DFS(self, i, j, visited):\n",
    "        #Direction arrays\n",
    "        rowNbr = [-1,0,-1,0];\n",
    "        colNbr = [0,1,0,-1];\n",
    "         \n",
    "        # Mark this cell as visited\n",
    "        visited[i][j] = True\n",
    " \n",
    "        # Recursion  al connected neighbours\n",
    "        for k in range(4):\n",
    "            if self.isSafe(i + rowNbr[k], j + colNbr[k], visited):\n",
    "                self.DFS(i + rowNbr[k], j + colNbr[k], visited)\n",
    " \n",
    " \n",
    "     def countIslands(self):\n",
    "        # Make a bool array to mark visited cells.Initially all cells are unvisited\n",
    "        visited = [[0 for j in range(self.COL)]for i in range(self.ROW)]\n",
    "        count = 0\n",
    "        for i in range(self.ROW):\n",
    "            for j in range(self.COL):\n",
    "                if visited[i][j] == 0 and self.graph[i][j] == True:\n",
    "                    self.DFS(i, j, visited)\n",
    "                    count += 1\n",
    " \n",
    "        return count\n",
    " \n",
    " \n",
    "graph = [\n",
    "            [0, 1, 0, 1],\n",
    "            [1, 1,0, 0],\n",
    "            [0, 0, 1,0],\n",
    "            [0, 0, 1,0]\n",
    "        ]\n",
    " \n",
    " \n",
    "row = len(graph)\n",
    "col = len(graph[0])\n",
    " \n",
    "g= Tile(row,col,grapf)\n",
    " \n",
    "print \"Number of islands is :\"\n",
    "print g.countIslands()"
   ]
  },
  {
   "cell_type": "code",
   "execution_count": null,
   "metadata": {
    "collapsed": true
   },
   "outputs": [],
   "source": []
  },
  {
   "cell_type": "code",
   "execution_count": null,
   "metadata": {
    "collapsed": true
   },
   "outputs": [],
   "source": []
  }
 ],
 "metadata": {
  "kernelspec": {
   "display_name": "Python 2",
   "language": "python",
   "name": "python2"
  },
  "language_info": {
   "codemirror_mode": {
    "name": "ipython",
    "version": 2
   },
   "file_extension": ".py",
   "mimetype": "text/x-python",
   "name": "python",
   "nbconvert_exporter": "python",
   "pygments_lexer": "ipython2",
   "version": "2.7.13"
  }
 },
 "nbformat": 4,
 "nbformat_minor": 2
}
